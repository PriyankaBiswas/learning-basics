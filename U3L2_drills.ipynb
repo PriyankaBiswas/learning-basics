{
 "cells": [
  {
   "cell_type": "markdown",
   "metadata": {},
   "source": [
    "# TFF Unit 3 Lesson 2 Drills -- Drills on probability \n",
    "\n",
    "\n",
    "Q1: Calculate the probability of flipping a balanced coin four times and getting each pattern: HTTH, HHHH and TTHH.\n",
    "\n",
    "Answer: P(HTTH) = 1/2 * 1/2 * 1/2 * 1/2 = 1/16 for each pattern. \n",
    "\n",
    "Q2: If a list of people has 24 women and 21 men, then the probability of choosing a man from the list is 21/45. \n",
    "What is the probability of not choosing a man?\n",
    "\n",
    "Answer: P(not choosing a man) = 1-21/45\n",
    "\n",
    "Q3: The probability that Bernice will travel by plane sometime in the next year is 10%. \n",
    "The probability of a plane crash at any time is .005%. \n",
    "What is the probability that Bernice will be in a plane crash sometime in the next year?\n",
    "\n",
    "Answer: P(Bernice in a plane crash) = .01 * .005 = .0005\n",
    "\n",
    "Q4: A data scientist wants to study the behavior of users on the company website. Each time a user clicks on a link on the website, there is a 5% chance that the user will be asked to complete a short survey about their behavior on the website. The data scientist uses the survey data to conclude that, on average, users spend 15 minutes surfing the company website before moving on to other things. \n",
    "What is wrong with this conclusion?\n",
    "\n",
    "Answer: P(survey) = 0.05 -- this could not be on average. \n",
    "\n",
    "--> PB: I didn't understand this question or the connection between the two events. \n",
    "\n",
    "\n",
    "\n"
   ]
  },
  {
   "cell_type": "code",
   "execution_count": null,
   "metadata": {},
   "outputs": [],
   "source": []
  }
 ],
 "metadata": {
  "kernelspec": {
   "display_name": "Python 3",
   "language": "python",
   "name": "python3"
  },
  "language_info": {
   "codemirror_mode": {
    "name": "ipython",
    "version": 3
   },
   "file_extension": ".py",
   "mimetype": "text/x-python",
   "name": "python",
   "nbconvert_exporter": "python",
   "pygments_lexer": "ipython3",
   "version": "3.6.5"
  }
 },
 "nbformat": 4,
 "nbformat_minor": 2
}
