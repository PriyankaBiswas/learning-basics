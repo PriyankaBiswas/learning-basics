{
 "cells": [
  {
   "cell_type": "markdown",
   "metadata": {},
   "source": [
    "# Unit 3 Lesson 1 Project 5 - Drills: describing data\n",
    "\n",
    "This noteboook is for TF Fundamentals Unit 3 Lesson 1 Agginment 5 project -- to be submitted \n",
    "\n",
    "This portion corresponds to the manual calculation for the drill. \n",
    "### Question 1: calculate the following: \n",
    "\n",
    "    Greg = 14\n",
    "    Marcia = 12\n",
    "    Peter = 11\n",
    "    Jan =10\n",
    "    Bobby 8\n",
    "    Cindy 6 \n",
    "    Oliver = 8 \n",
    "\n",
    "**Mean1** = (14+12+11+10+8+6+8)/7 = 9.8571\n",
    "\n",
    "**Median1** = (6,8,8,10,11,12,14) = 10\n",
    "\n",
    "**Mode1** = 8\n",
    "\n",
    "**Variance (v)** = sum(x - mean)$**$2/(n-1)\n",
    "\n",
    "    = {(14-9.86)$**$2 + (12-9.86)$**$2 + (11-9.86)$**$2 + (10-9.86)$**$2 + (8-9.86)$**$2 + (6-9.86)$**$2 + (8-9.86)$**$2}/(7-1)\n",
    "\n",
    "    = {17.14 +4.48 + 1.3 + 0.0196 + 3.46 + 14.8996 + 3.46}/6\n",
    "\n",
    "    = 44.7592/6\n",
    "\n",
    "    = 7.4598\n",
    "\n",
    "**Standard deviation(s)** = sqrt of variance = v $**$ 0.5\n",
    "\n",
    "    = 7.4598 $**$ 0.5\n",
    "    = 2.7312\n",
    "\n",
    "**Standard Error (of the mean)** = precision of the mean estimate\n",
    "\n",
    "se = s/(n $**$ 0.5)  \n",
    "    = 2.73 / (7 $**$ 0.5)\n",
    "    = 1.032@\n",
    "\n",
    "### Question 2: Pick one estimate of central tendency and one estimate of variance to describe the data: mean and standard deviation. \n",
    "\n",
    "__Mean__: Although mean/average could be susceptible to outliers or extremely large or small values, given the data and the its range, mean seems to be the best match and the value is also close to the value of the median. \n",
    "\n",
    "__Standard Deviation__: It is the most common estimate of variability. I do not choose standard error because that would determine the precision of the sample mean, which is not the best estimate of the variance of the population.\n",
    "\n",
    "\n",
    "### Question 3: Cindy has a birthday - turns 6 to 7. Change estimates\n",
    "\n",
    "__Mean__ = (14+12+11+10+8+7+8)/7 = 10\n",
    "\n",
    "__Median__ = (7,8,8,10,11,12,14) = 10 #not changed\n",
    "\n",
    "__Mode__ = 8 #not changed\n",
    "\n",
    "\n",
    "#All of the following estimates changed. \n",
    "\n",
    "__Variance__ = {(14-10)$**$2 + (12-10)$**$2 + (11-10)$**$2 + (10-10)$**$2 + (8-10)$**$2 + (7-10)$**$2 + (8-10)$**$2}/(7-1)\n",
    "= {16+4+1+0+4+9+4}/6\n",
    "=6.33\n",
    "\n",
    "__Standard Deviation__ = 6.33 $**$ 0.5\n",
    "=2.516\n",
    "\n",
    "__Standard Error__ = 2.516 / (7 $**$ 0.5)\n",
    "=0.951\n",
    "\n",
    "\n",
    "### Question 4 - replace Oliver (8yrs.) with Jessica (1yr.) and recalculate. \n",
    "\n",
    "    Greg = 14\n",
    "    Marcia = 12\n",
    "    Peter = 11\n",
    "    Jan =10\n",
    "    Bobby 8\n",
    "    Cindy 7 \n",
    "    Jessica = 1 \n",
    "\n",
    "\n",
    "__Mean__ = Mean = (14+12+11+10+8+7+1)/7 = 9\n",
    "\n",
    "__Median__ = (1,7,8,10,11,12,14) = 10 #not changed\n",
    "\n",
    "__Mode__ = 0 #changed\n",
    "\n",
    "Yes my estimate of central tendency changes. Looking at the distribution of data here I'd go with median for the estimate of the central tendency now, as the mean has changed over the time, whereas the median remained the same. Additionally, the mean now suffers from one value (e.g., Jessica = 1) that is relatively lower than the rest of the values which is the reason for a lower mean.  \n",
    "\n",
    "Let's take a look at the estimates of variability. \n",
    "\n",
    "__Variance__ = {(14-9)$**$2 + (12-9)$**$2 + (11-9)$**$2 + (10-9)$**$2 + (8-9)$**$2 + (7-9)$**$2 + (1-9)$**$2}/(7-1)\n",
    "= (25+9+4+1+1+4+36)/6\n",
    "=13.33\n",
    "\n",
    "__Standard Deviation__ = 13.33 $**$ 0.5\n",
    "=3.6514\n",
    "\n",
    "__Standard Error__ = 3.6514 / (7 $**$ 0.5)\n",
    "=1.380\n",
    "\n",
    "I'll still choose the standard deviation for the estimate of the variability as it changes according to the data. For example, the stdev has increased from 2.56 to 3.65 showing that there is not more variability in the data. \n",
    "#I must have calculated the varinace wrong as the pandas calc is not matching for the var and stdev. \n",
    "\n",
    "\n",
    "### Question 5: what % of adult Americans are fans of the show: \n",
    "TV guide = 20%\n",
    "Entertainment Weekly = 23%\n",
    "Pop Culture Today = 17%\n",
    "SciPhi Phanatic = 5%\n",
    "\n",
    "First of all, descriptively, the sample is very small and the SciPhi Fanatic shows an outlier wrt. the values of the other three magazines. Secondly, there is not enough information about the population that reads these magazines. Therefore, if we assume that all these magazines are read by adult Americans, we'd go with the mean as the measure of central tendency due to the small sample size. In that case, the answer will be  ((20+23+17+5)/4)= 16.5% of adult Americans are fans of the show Brady Bunch. \n",
    "\n",
    "\n"
   ]
  },
  {
   "cell_type": "markdown",
   "metadata": {},
   "source": [
    "## This portion of the notebook corresponds to the python calculations for the drill. \n"
   ]
  },
  {
   "cell_type": "code",
   "execution_count": 192,
   "metadata": {},
   "outputs": [],
   "source": [
    "\n",
    "import pandas as pd\n",
    "import numpy as np \n",
    "%matplotlib inline \n",
    "\n",
    "data = pd.DataFrame()"
   ]
  },
  {
   "cell_type": "code",
   "execution_count": 193,
   "metadata": {},
   "outputs": [
    {
     "data": {
      "text/html": [
       "<div>\n",
       "<style scoped>\n",
       "    .dataframe tbody tr th:only-of-type {\n",
       "        vertical-align: middle;\n",
       "    }\n",
       "\n",
       "    .dataframe tbody tr th {\n",
       "        vertical-align: top;\n",
       "    }\n",
       "\n",
       "    .dataframe thead th {\n",
       "        text-align: right;\n",
       "    }\n",
       "</style>\n",
       "<table border=\"1\" class=\"dataframe\">\n",
       "  <thead>\n",
       "    <tr style=\"text-align: right;\">\n",
       "      <th></th>\n",
       "      <th>names</th>\n",
       "      <th>age</th>\n",
       "    </tr>\n",
       "  </thead>\n",
       "  <tbody>\n",
       "    <tr>\n",
       "      <th>0</th>\n",
       "      <td>Greg</td>\n",
       "      <td>14</td>\n",
       "    </tr>\n",
       "    <tr>\n",
       "      <th>1</th>\n",
       "      <td>Marcia</td>\n",
       "      <td>12</td>\n",
       "    </tr>\n",
       "    <tr>\n",
       "      <th>2</th>\n",
       "      <td>Peter</td>\n",
       "      <td>11</td>\n",
       "    </tr>\n",
       "    <tr>\n",
       "      <th>3</th>\n",
       "      <td>Jan</td>\n",
       "      <td>10</td>\n",
       "    </tr>\n",
       "    <tr>\n",
       "      <th>4</th>\n",
       "      <td>Bobby</td>\n",
       "      <td>8</td>\n",
       "    </tr>\n",
       "    <tr>\n",
       "      <th>5</th>\n",
       "      <td>Cindy</td>\n",
       "      <td>6</td>\n",
       "    </tr>\n",
       "    <tr>\n",
       "      <th>6</th>\n",
       "      <td>Oliver</td>\n",
       "      <td>8</td>\n",
       "    </tr>\n",
       "  </tbody>\n",
       "</table>\n",
       "</div>"
      ],
      "text/plain": [
       "    names  age\n",
       "0    Greg   14\n",
       "1  Marcia   12\n",
       "2   Peter   11\n",
       "3     Jan   10\n",
       "4   Bobby    8\n",
       "5   Cindy    6\n",
       "6  Oliver    8"
      ]
     },
     "execution_count": 193,
     "metadata": {},
     "output_type": "execute_result"
    }
   ],
   "source": [
    "names = ['Greg', 'Marcia', 'Peter', 'Jan', 'Bobby','Cindy', 'Oliver']\n",
    "age = [14,12,11,10,8,6,8]\n",
    "data['names'] = names\n",
    "data['age']= age\n",
    "data.describe()\n",
    "data"
   ]
  },
  {
   "cell_type": "code",
   "execution_count": 194,
   "metadata": {},
   "outputs": [
    {
     "name": "stdout",
     "output_type": "stream",
     "text": [
      "the mean, median and mode are 9.857142857142858, 10, 8, respectively\n",
      "    names  age\n",
      "0    Greg   14\n",
      "1  Marcia   12\n",
      "2   Peter   11\n",
      "3     Jan   10\n",
      "4   Bobby    8\n",
      "5   Cindy    6\n",
      "6  Oliver    8\n"
     ]
    }
   ],
   "source": [
    "#first measures of central tendency\n",
    "mean1 = data['age'].mean()\n",
    "median1 = data['age'].median()\n",
    "mode1 = data['age'].mode()\n",
    "print(\"the mean, median and mode are {}, {}, {}, respectively\".format(mean1, int(median1), int(mode1)))\n",
    "\n",
    "#first measures of variability\n",
    "var1 = data['age'].var()\n",
    "stdev1 = data['age'].std()\n",
    "ste1 = stdev1/(len(data['age']) ** 0.5)\n",
    "\n",
    "\n",
    "print(data)"
   ]
  },
  {
   "cell_type": "code",
   "execution_count": 195,
   "metadata": {},
   "outputs": [],
   "source": [
    "#Changing Cindy's age from 6 --> 7.\n",
    "\n",
    "data.replace(6,7) #this still changes the data variable\n",
    "#either\n",
    "#data.at[5,'age'] = 7\n",
    "\n",
    "#or\n",
    "data['age'].replace(6,7, inplace=True) #saving this with inplace=True in a variable returns None! otherwise it saves only the column\n",
    "#print(data)\n",
    "#print(data1)\n",
    "\n"
   ]
  },
  {
   "cell_type": "code",
   "execution_count": 196,
   "metadata": {},
   "outputs": [
    {
     "name": "stdout",
     "output_type": "stream",
     "text": [
      "after changing Cindy's age, the mean, median and mode are 10, 10, 8, respectively\n",
      "After changing Cindy's age, the variance, standard deviation and standard error are 6, 2, 0.9511897312113418, respectively\n",
      "    names  age\n",
      "0    Greg   14\n",
      "1  Marcia   12\n",
      "2   Peter   11\n",
      "3     Jan   10\n",
      "4   Bobby    8\n",
      "5   Cindy    7\n",
      "6  Oliver    8\n"
     ]
    }
   ],
   "source": [
    "#perfomring second set of estimations\n",
    "mean2 = data['age'].mean()\n",
    "#print(mean2)\n",
    "median2 = data['age'].median()\n",
    "mode2 = data['age'].mode()\n",
    "\n",
    "print(\"after changing Cindy's age, the mean, median and mode are {}, {}, {}, respectively\".format(int(mean2), int(median2), int(mode2)))\n",
    "#first measures of variability\n",
    "var2 = data['age'].var()\n",
    "stdev2 = data['age'].std()\n",
    "ste2 = stdev2/(len(data['age']) ** 0.5)\n",
    "\n",
    "print(\"After changing Cindy's age, the variance, standard deviation and standard error are {}, {}, {}, respectively\".format(int(var2), int(stdev2), ste2))\n",
    "#print(len(data['age']) ** 0.5)\n",
    "#2/len(data['age']) ** 0.5\n",
    "print(data)"
   ]
  },
  {
   "cell_type": "code",
   "execution_count": 199,
   "metadata": {
    "scrolled": true
   },
   "outputs": [
    {
     "name": "stdout",
     "output_type": "stream",
     "text": [
      "     names  age\n",
      "0     Greg   14\n",
      "1   Marcia   12\n",
      "2    Peter   11\n",
      "3      Jan   10\n",
      "4    Bobby    8\n",
      "5    Cindy    7\n",
      "6  Jessica    1\n"
     ]
    }
   ],
   "source": [
    "#removing Oliver, 7 to Jessica, 1\n",
    "\n",
    "data['names'].replace('Oliver', 'Jessica', inplace=True)\n",
    "data.at[6,'age'] = 1\n",
    "\n",
    "\n",
    "print(data)\n",
    "\n",
    "#need to find a way to replace corresponding values for rows,e.g., for row == \"jessica\" change corresponding age to 1"
   ]
  },
  {
   "cell_type": "code",
   "execution_count": 216,
   "metadata": {},
   "outputs": [
    {
     "name": "stdout",
     "output_type": "stream",
     "text": [
      "after replacing Oliver by Jessica, the mean, median and mode are 9.0, 10.0, 0     1\n",
      "1     7\n",
      "2     8\n",
      "3    10\n",
      "4    11\n",
      "5    12\n",
      "6    14\n",
      "dtype: int64 respectively.\n",
      "After replacing Oliver, the variance, standard deviation and standard error are 18.0, 4.242640687119285, 1.6035674514745462, respectively\n"
     ]
    }
   ],
   "source": [
    "#Performing the third set of estimations after replace Oliver, 8 to Jessica, 1\n",
    "\n",
    "mean3 = data['age'].mean()\n",
    "median3 = data['age'].median()\n",
    "mode3 = data['age'].mode()\n",
    "\n",
    "print(\"after replacing Oliver by Jessica, the mean, median and mode are {}, {}, {} respectively.\".format(mean3, median3,mode3))\n",
    "\n",
    "#third measures of variability\n",
    "\n",
    "var3 = data['age'].var()\n",
    "stdev3 = data['age'].std()\n",
    "ste3 = stdev3/(len(data['age']) ** 0.5)\n",
    "\n",
    "print(\"After replacing Oliver, the variance, standard deviation and standard error are {}, {}, {}, respectively\".format(var3, stdev3, ste3))\n"
   ]
  },
  {
   "cell_type": "code",
   "execution_count": null,
   "metadata": {},
   "outputs": [],
   "source": []
  }
 ],
 "metadata": {
  "kernelspec": {
   "display_name": "Python 3",
   "language": "python",
   "name": "python3"
  },
  "language_info": {
   "codemirror_mode": {
    "name": "ipython",
    "version": 3
   },
   "file_extension": ".py",
   "mimetype": "text/x-python",
   "name": "python",
   "nbconvert_exporter": "python",
   "pygments_lexer": "ipython3",
   "version": "3.6.5"
  }
 },
 "nbformat": 4,
 "nbformat_minor": 2
}
