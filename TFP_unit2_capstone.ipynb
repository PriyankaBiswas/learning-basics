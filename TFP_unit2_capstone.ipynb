{
 "cells": [
  {
   "cell_type": "code",
   "execution_count": null,
   "metadata": {},
   "outputs": [],
   "source": [
    "Skip to content\n",
    "Features\n",
    "Business\n",
    "Explore\n",
    "Marketplace\n",
    "Pricing\n",
    "This repository\n",
    "Search\n",
    "Sign in or Sign up\n",
    "0 3 5 giggles-data-science/Python-3-DS\n",
    " Code  Issues 0  Pull requests 0  Projects 0  Insights\n",
    "Python-3-DS/seaborn.ipynb\n",
    "a41e43c  6 minutes ago\n",
    "@giggles-data-science giggles-data-science adding html\n",
    "   \n",
    "1.86 MB\n",
    "\n",
    "© 2018 GitHub, Inc.\n",
    "Terms\n",
    "Privacy\n",
    "Security\n",
    "Status\n",
    "Help\n",
    "Contact GitHub\n",
    "API\n",
    "Training\n",
    "Shop\n",
    "Blog\n",
    "About\n",
    "Press h to open a hovercard with more details."
   ]
  }
 ],
 "metadata": {
  "kernelspec": {
   "display_name": "Python 3",
   "language": "python",
   "name": "python3"
  },
  "language_info": {
   "codemirror_mode": {
    "name": "ipython",
    "version": 3
   },
   "file_extension": ".py",
   "mimetype": "text/x-python",
   "name": "python",
   "nbconvert_exporter": "python",
   "pygments_lexer": "ipython3",
   "version": "3.5.0"
  }
 },
 "nbformat": 4,
 "nbformat_minor": 2
}
