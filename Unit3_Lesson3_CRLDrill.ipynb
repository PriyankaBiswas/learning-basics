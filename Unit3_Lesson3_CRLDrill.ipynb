{
 "cells": [
  {
   "cell_type": "markdown",
   "metadata": {},
   "source": [
    "Now that you have some code to create your own populations, sample them, and compare the samples to the populations, it's time to experiment. Using your own Jupyter notebook, or a copy of the notebook from the previous assignment, reproduce the pop1 and pop2 populations and samples, using numpy's binomial function. Specifically, create two binomially distributed populations with n equal to 10 and size equal to 10000. The p-value of pop1 should be 0.2 and the p-value of pop2 should be 0.5. Using a sample size of 100, calculate the means and standard deviations of your samples.\n",
    "\n",
    "\n",
    "For each of the following tasks, first write what you expect will happen, then code the changes and observe what does happen. Discuss the results with your mentor.\n",
    "\n",
    "\n",
    "Increase the size of your samples from 100 to 1000, then calculate the means and standard deviations for your new samples and create histograms for each. Repeat this again, decreasing the size of your samples to 20. What values change, and what remain the same?\n",
    "\n",
    "\n",
    "Change the probability value (p in the NumPy documentation) for pop1 to 0.3, then take new samples and compute the t-statistic and p-value. Then change the probability value p for group 1 to 0.4, and do it again. What changes, and why?\n",
    "\n",
    "\n",
    "Change the distribution of your populations from binomial to a distribution of your choice. Do the sample mean values still accurately represent the population values?"
   ]
  },
  {
   "cell_type": "code",
   "execution_count": 1,
   "metadata": {},
   "outputs": [],
   "source": [
    "import numpy as np\n",
    "import pandas as pd\n",
    "import matplotlib.pyplot as plt\n",
    "import random\n",
    "import scipy\n",
    "%matplotlib inline"
   ]
  },
  {
   "cell_type": "markdown",
   "metadata": {},
   "source": [
    "\n",
    "For each task, I expect to happen the following:\n",
    "\n",
    "To begin with, both of the distributions are binomial distributions. Population 1 with 0.2 probability, the distribution will be confined to towards the left with a mean/peak around 2. Similarly with .5 probability, the distribution will be towards the middle with a peak around 5. With the increase of n (100 -> 1000) the distribution will be more dense, but yet have the same overall distribution as described.   \n",
    "\n",
    "(1) pop change 1000 --> 20, both means and stdev change. The distribution is much less dense. Stadard deviation will change more than the mean. \n",
    "\n",
    "(2) Changing the pop1 probability to 0.3 means the distributions are getting more similar to each other. The t-value should decrease and the p-value should increase. \n",
    "\n",
    "(3) The essence of the CRL is that it works if we have a large enough sample size. In this case we see that the distribution are looking very similar, so we can assume the sample means are representative of the populations. But it ultimately depends on the distributions and the populations. \n",
    "\n",
    "first write what you expect will happen, then code the changes and observe what does happen. Discuss the results with your mentor."
   ]
  },
  {
   "cell_type": "code",
   "execution_count": null,
   "metadata": {},
   "outputs": [],
   "source": []
  },
  {
   "cell_type": "code",
   "execution_count": 14,
   "metadata": {},
   "outputs": [
    {
     "data": {
      "text/plain": [
       "(array([  10.,  100.,  454., 1190., 2101., 2427., 1969., 1211.,  428.,\n",
       "         110.]),\n",
       " array([ 0.,  1.,  2.,  3.,  4.,  5.,  6.,  7.,  8.,  9., 10.]),\n",
       " <a list of 10 Patch objects>)"
      ]
     },
     "execution_count": 14,
     "metadata": {},
     "output_type": "execute_result"
    },
    {
     "data": {
      "image/png": "[encoded data removed]",
      "text/plain": [
       "<Figure size 432x288 with 1 Axes>"
      ]
     },
     "metadata": {},
     "output_type": "display_data"
    }
   ],
   "source": [
    "pop1 = np.random.binomial(10, 0.2, 10000)\n",
    "pop2 = np.random.binomial(10, 0.5, 10000)\n",
    "\n",
    "plt.hist(pop1)\n",
    "plt.hist(pop2)"
   ]
  },
  {
   "cell_type": "code",
   "execution_count": 15,
   "metadata": {},
   "outputs": [],
   "source": [
    "sample1= np.random.choice(pop1, 100, replace=True)\n",
    "sample2 = np.random.choice(pop2, 100, replace=True)"
   ]
  },
  {
   "cell_type": "code",
   "execution_count": 16,
   "metadata": {
    "scrolled": true
   },
   "outputs": [
    {
     "name": "stdout",
     "output_type": "stream",
     "text": [
      "1.72 5.07\n"
     ]
    },
    {
     "data": {
      "text/plain": [
       "(array([ 2.,  6.,  6., 22.,  0., 24., 20., 14.,  5.,  1.]),\n",
       " array([1. , 1.8, 2.6, 3.4, 4.2, 5. , 5.8, 6.6, 7.4, 8.2, 9. ]),\n",
       " <a list of 10 Patch objects>)"
      ]
     },
     "execution_count": 16,
     "metadata": {},
     "output_type": "execute_result"
    },
    {
     "data": {
      "image/png": "[encoded data removed]",
      "text/plain": [
       "<Figure size 432x288 with 1 Axes>"
      ]
     },
     "metadata": {},
     "output_type": "display_data"
    }
   ],
   "source": [
    "mean1 = sample1.mean()\n",
    "std1 = sample2.mean()\n",
    "print(mean1, std1)\n",
    "\n",
    "plt.hist(sample1)\n",
    "plt.hist(sample2)"
   ]
  },
  {
   "cell_type": "code",
   "execution_count": 17,
   "metadata": {},
   "outputs": [
    {
     "name": "stdout",
     "output_type": "stream",
     "text": [
      "1.978 5.015\n"
     ]
    },
    {
     "data": {
      "text/plain": [
       "(array([ 11.,  46., 109., 199., 259., 203., 123.,  36.,  13.,   1.]),\n",
       " array([ 1. ,  1.9,  2.8,  3.7,  4.6,  5.5,  6.4,  7.3,  8.2,  9.1, 10. ]),\n",
       " <a list of 10 Patch objects>)"
      ]
     },
     "execution_count": 17,
     "metadata": {},
     "output_type": "execute_result"
    },
    {
     "data": {
      "image/png": "[encoded data removed]",
      "text/plain": [
       "<Figure size 432x288 with 1 Axes>"
      ]
     },
     "metadata": {},
     "output_type": "display_data"
    }
   ],
   "source": [
    "sample1_1= np.random.choice(pop1, 1000, replace=True)\n",
    "sample2_1 = np.random.choice(pop2, 1000, replace=True)\n",
    "\n",
    "mean1 = sample1_1.mean()\n",
    "std1 = sample2_1.mean()\n",
    "print(mean1, std1)\n",
    "plt.hist(sample1_1)\n",
    "plt.hist(sample2_1)"
   ]
  },
  {
   "cell_type": "code",
   "execution_count": 18,
   "metadata": {},
   "outputs": [
    {
     "name": "stdout",
     "output_type": "stream",
     "text": [
      "1.9 5.6\n"
     ]
    },
    {
     "data": {
      "text/plain": [
       "(array([2., 0., 3., 0., 4., 0., 5., 0., 4., 2.]),\n",
       " array([3. , 3.5, 4. , 4.5, 5. , 5.5, 6. , 6.5, 7. , 7.5, 8. ]),\n",
       " <a list of 10 Patch objects>)"
      ]
     },
     "execution_count": 18,
     "metadata": {},
     "output_type": "execute_result"
    },
    {
     "data": {
      "image/png": "[encoded data removed]",
      "text/plain": [
       "<Figure size 432x288 with 1 Axes>"
      ]
     },
     "metadata": {},
     "output_type": "display_data"
    }
   ],
   "source": [
    "sample1_2= np.random.choice(pop1, 20, replace=True)\n",
    "sample2_2 = np.random.choice(pop2, 20, replace=True)\n",
    "\n",
    "mean1 = sample1_2.mean()\n",
    "std1 = sample2_2.mean()\n",
    "print(mean1, std1)\n",
    "plt.hist(sample1_2)\n",
    "plt.hist(sample2_2)"
   ]
  },
  {
   "cell_type": "markdown",
   "metadata": {},
   "source": [
    "Change the probability value (p in the NumPy documentation) for pop1 to 0.3, then take new samples and compute the t-statistic and p-value. Then change the probability value p for group 1 to 0.4, and do it again. What changes, and why?"
   ]
  },
  {
   "cell_type": "code",
   "execution_count": 2,
   "metadata": {},
   "outputs": [
    {
     "name": "stdout",
     "output_type": "stream",
     "text": [
      "Ttest_indResult(statistic=0.2824182945529571, pvalue=0.7779252651679491)\n"
     ]
    }
   ],
   "source": [
    "pop1_1 = np.random.binomial(10, .3, 10000)\n",
    "sample3 =  np.random.choice(pop1_1, 100, replace=True)\n",
    "sample4 =  np.random.choice(pop1_1, 100, replace=True)\n",
    "\n",
    "from scipy.stats import ttest_ind\n",
    "print(ttest_ind(sample3, sample4, equal_var=False))"
   ]
  },
  {
   "cell_type": "code",
   "execution_count": 3,
   "metadata": {},
   "outputs": [
    {
     "name": "stdout",
     "output_type": "stream",
     "text": [
      "Ttest_indResult(statistic=-0.7350296588885024, pvalue=0.46319256724379687)\n"
     ]
    }
   ],
   "source": [
    "pop1_2 = np.random.binomial(10, .4, 10000)\n",
    "sample3_1 =  np.random.choice(pop1_2, 100, replace=True)\n",
    "sample4_1 =  np.random.choice(pop1_2, 100, replace=True)\n",
    "\n",
    "from scipy.stats import ttest_ind\n",
    "print(ttest_ind(sample3_1, sample4_1, equal_var=False))"
   ]
  },
  {
   "cell_type": "code",
   "execution_count": 4,
   "metadata": {},
   "outputs": [
    {
     "name": "stdout",
     "output_type": "stream",
     "text": [
      "23228.937997081222 23228.937997081222 22247.495431358042 22247.495431358042\n",
      "Ttest_indResult(statistic=1.1149756370993176, pvalue=0.2662182285874618)\n"
     ]
    }
   ],
   "source": [
    "pop3 = np.random.lognormal(10, .3, 10000)\n",
    "sample5 =  np.random.choice(pop3, 100, replace=True)\n",
    "sample6 =  np.random.choice(pop3, 100, replace=True)\n",
    "\n",
    "print(sample5.mean(), sample5.mean(), sample6.mean(), sample6.mean() )\n",
    "\n",
    "\n",
    "from scipy.stats import ttest_ind\n",
    "print(ttest_ind(sample5, sample6, equal_var=False))"
   ]
  },
  {
   "cell_type": "code",
   "execution_count": 22,
   "metadata": {},
   "outputs": [
    {
     "data": {
      "text/plain": [
       "(array([ 6.,  8., 13., 16., 13., 11., 11., 12.,  8.,  2.]),\n",
       " array([10863.38131152, 13398.83438583, 15934.28746014, 18469.74053445,\n",
       "        21005.19360876, 23540.64668307, 26076.09975738, 28611.55283169,\n",
       "        31147.005906  , 33682.45898031, 36217.91205462]),\n",
       " <a list of 10 Patch objects>)"
      ]
     },
     "execution_count": 22,
     "metadata": {},
     "output_type": "execute_result"
    },
    {
     "data": {
      "image/png": "[encoded data removed]",
      "text/plain": [
       "<Figure size 432x288 with 1 Axes>"
      ]
     },
     "metadata": {},
     "output_type": "display_data"
    }
   ],
   "source": [
    "plt.hist(sample5)\n",
    "plt.hist(sample6)"
   ]
  },
  {
   "cell_type": "code",
   "execution_count": null,
   "metadata": {},
   "outputs": [],
   "source": []
  }
 ],
 "metadata": {
  "kernelspec": {
   "display_name": "Python 3",
   "language": "python",
   "name": "python3"
  },
  "language_info": {
   "codemirror_mode": {
    "name": "ipython",
    "version": 3
   },
   "file_extension": ".py",
   "mimetype": "text/x-python",
   "name": "python",
   "nbconvert_exporter": "python",
   "pygments_lexer": "ipython3",
   "version": "3.6.5"
  }
 },
 "nbformat": 4,
 "nbformat_minor": 2
}
